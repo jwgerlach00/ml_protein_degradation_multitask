{
 "cells": [
  {
   "cell_type": "code",
   "execution_count": 1,
   "metadata": {},
   "outputs": [],
   "source": [
    "from rdkit.Chem import PandasTools\n",
    "from linkerology_multitask.dataset_creation import ParentDataProcessor, ComponentDataProcessor"
   ]
  },
  {
   "cell_type": "markdown",
   "metadata": {},
   "source": [
    "Load raw data and declare hyperparameters"
   ]
  },
  {
   "cell_type": "code",
   "execution_count": 2,
   "metadata": {},
   "outputs": [
    {
     "name": "stderr",
     "output_type": "stream",
     "text": [
      "[17:45:04] skipping block at line 781398: 'BEGIN ATOM'\n"
     ]
    }
   ],
   "source": [
    "# Load data\n",
    "full_df = PandasTools.LoadSDF('../../data/DataView_CopyofProcessed_linkerology_060223.sdf_1__export.sdf')\n",
    "\n",
    "# Declare hyperparams for DataProcessor\n",
    "hyperparams = {\n",
    "    'fingerprint': {\n",
    "        'radius': 6,\n",
    "        'bit_vector_length': 2048\n",
    "    },\n",
    "    'drop_ar': False # for dropping AR because AR is entirely active w/ 40nM binarization threshold -- Dropping didn't \\\n",
    "        # seem to add any value\n",
    "}"
   ]
  },
  {
   "cell_type": "markdown",
   "metadata": {},
   "source": [
    "Generate binary classification dataset using **parent** PROTAC structures"
   ]
  },
  {
   "cell_type": "code",
   "execution_count": 3,
   "metadata": {},
   "outputs": [
    {
     "name": "stderr",
     "output_type": "stream",
     "text": [
      "[17:39:52] Conflicting single bond directions around double bond at index 19.\n",
      "[17:39:52]   BondStereo set to STEREONONE and single bond directions set to NONE.\n",
      "[17:39:52] Conflicting single bond directions around double bond at index 19.\n",
      "[17:39:52]   BondStereo set to STEREONONE and single bond directions set to NONE.\n",
      "[17:39:52] Conflicting single bond directions around double bond at index 19.\n",
      "[17:39:52]   BondStereo set to STEREONONE and single bond directions set to NONE.\n",
      "[17:39:52] Conflicting single bond directions around double bond at index 19.\n",
      "[17:39:52]   BondStereo set to STEREONONE and single bond directions set to NONE.\n",
      "[17:39:52] Conflicting single bond directions around double bond at index 19.\n",
      "[17:39:52]   BondStereo set to STEREONONE and single bond directions set to NONE.\n",
      "[17:39:52] Conflicting single bond directions around double bond at index 19.\n",
      "[17:39:52]   BondStereo set to STEREONONE and single bond directions set to NONE.\n",
      "[17:39:52] Conflicting single bond directions around double bond at index 19.\n",
      "[17:39:52]   BondStereo set to STEREONONE and single bond directions set to NONE.\n",
      "[17:39:52] Conflicting single bond directions around double bond at index 19.\n",
      "[17:39:52]   BondStereo set to STEREONONE and single bond directions set to NONE.\n",
      "[17:39:52] Conflicting single bond directions around double bond at index 19.\n",
      "[17:39:52]   BondStereo set to STEREONONE and single bond directions set to NONE.\n",
      "[17:39:52] Conflicting single bond directions around double bond at index 19.\n",
      "[17:39:52]   BondStereo set to STEREONONE and single bond directions set to NONE.\n",
      "[17:39:52] Conflicting single bond directions around double bond at index 19.\n",
      "[17:39:52]   BondStereo set to STEREONONE and single bond directions set to NONE.\n",
      "[17:39:52] Conflicting single bond directions around double bond at index 19.\n",
      "[17:39:52]   BondStereo set to STEREONONE and single bond directions set to NONE.\n",
      "[17:39:52] Conflicting single bond directions around double bond at index 19.\n",
      "[17:39:52]   BondStereo set to STEREONONE and single bond directions set to NONE.\n",
      "[17:39:52] Conflicting single bond directions around double bond at index 19.\n",
      "[17:39:52]   BondStereo set to STEREONONE and single bond directions set to NONE.\n",
      "[17:39:52] Conflicting single bond directions around double bond at index 19.\n",
      "[17:39:52]   BondStereo set to STEREONONE and single bond directions set to NONE.\n",
      "[17:39:52] Conflicting single bond directions around double bond at index 42.\n",
      "[17:39:52]   BondStereo set to STEREONONE and single bond directions set to NONE.\n",
      "[17:39:52] Conflicting single bond directions around double bond at index 19.\n",
      "[17:39:52]   BondStereo set to STEREONONE and single bond directions set to NONE.\n",
      "[17:39:52] Conflicting single bond directions around double bond at index 19.\n",
      "[17:39:52]   BondStereo set to STEREONONE and single bond directions set to NONE.\n",
      "[17:39:52] Conflicting single bond directions around double bond at index 19.\n",
      "[17:39:52]   BondStereo set to STEREONONE and single bond directions set to NONE.\n",
      "[17:39:52] Conflicting single bond directions around double bond at index 24.\n",
      "[17:39:52]   BondStereo set to STEREONONE and single bond directions set to NONE.\n",
      "[17:39:52] Conflicting single bond directions around double bond at index 24.\n",
      "[17:39:52]   BondStereo set to STEREONONE and single bond directions set to NONE.\n",
      "[17:39:52] Conflicting single bond directions around double bond at index 19.\n",
      "[17:39:52]   BondStereo set to STEREONONE and single bond directions set to NONE.\n",
      "[17:39:52] Conflicting single bond directions around double bond at index 19.\n",
      "[17:39:52]   BondStereo set to STEREONONE and single bond directions set to NONE.\n",
      "[17:39:52] Conflicting single bond directions around double bond at index 19.\n",
      "[17:39:52]   BondStereo set to STEREONONE and single bond directions set to NONE.\n",
      "[17:39:52] Conflicting single bond directions around double bond at index 19.\n",
      "[17:39:52]   BondStereo set to STEREONONE and single bond directions set to NONE.\n",
      "[17:39:52] Conflicting single bond directions around double bond at index 56.\n",
      "[17:39:52]   BondStereo set to STEREONONE and single bond directions set to NONE.\n",
      "[17:39:52] Conflicting single bond directions around double bond at index 19.\n",
      "[17:39:52]   BondStereo set to STEREONONE and single bond directions set to NONE.\n",
      "[17:39:52] Conflicting single bond directions around double bond at index 19.\n",
      "[17:39:52]   BondStereo set to STEREONONE and single bond directions set to NONE.\n",
      "[17:39:52] Conflicting single bond directions around double bond at index 19.\n",
      "[17:39:52]   BondStereo set to STEREONONE and single bond directions set to NONE.\n",
      "[17:39:52] Conflicting single bond directions around double bond at index 58.\n",
      "[17:39:52]   BondStereo set to STEREONONE and single bond directions set to NONE.\n",
      "[17:39:52] Conflicting single bond directions around double bond at index 56.\n",
      "[17:39:52]   BondStereo set to STEREONONE and single bond directions set to NONE.\n",
      "[17:39:52] Conflicting single bond directions around double bond at index 54.\n",
      "[17:39:52]   BondStereo set to STEREONONE and single bond directions set to NONE.\n",
      "[17:40:29] Conflicting single bond directions around double bond at index 58.\n",
      "[17:40:29]   BondStereo set to STEREONONE and single bond directions set to NONE.\n",
      "[17:40:29] Conflicting single bond directions around double bond at index 56.\n",
      "[17:40:29]   BondStereo set to STEREONONE and single bond directions set to NONE.\n",
      "[17:40:29] Conflicting single bond directions around double bond at index 58.\n",
      "[17:40:29]   BondStereo set to STEREONONE and single bond directions set to NONE.\n",
      "[17:40:29] Conflicting single bond directions around double bond at index 54.\n",
      "[17:40:29]   BondStereo set to STEREONONE and single bond directions set to NONE.\n",
      "[17:40:29] Conflicting single bond directions around double bond at index 58.\n",
      "[17:40:29]   BondStereo set to STEREONONE and single bond directions set to NONE.\n",
      "[17:40:29] Conflicting single bond directions around double bond at index 54.\n",
      "[17:40:29]   BondStereo set to STEREONONE and single bond directions set to NONE.\n",
      "[17:40:29] Conflicting single bond directions around double bond at index 59.\n",
      "[17:40:29]   BondStereo set to STEREONONE and single bond directions set to NONE.\n",
      "[17:40:29] Conflicting single bond directions around double bond at index 60.\n",
      "[17:40:29]   BondStereo set to STEREONONE and single bond directions set to NONE.\n",
      "[17:40:29] Conflicting single bond directions around double bond at index 59.\n",
      "[17:40:29]   BondStereo set to STEREONONE and single bond directions set to NONE.\n",
      "[17:40:29] Conflicting single bond directions around double bond at index 59.\n",
      "[17:40:29]   BondStereo set to STEREONONE and single bond directions set to NONE.\n",
      "[17:40:29] Conflicting single bond directions around double bond at index 57.\n",
      "[17:40:29]   BondStereo set to STEREONONE and single bond directions set to NONE.\n",
      "[17:40:29] Conflicting single bond directions around double bond at index 57.\n",
      "[17:40:29]   BondStereo set to STEREONONE and single bond directions set to NONE.\n",
      "[17:40:29] Conflicting single bond directions around double bond at index 49.\n",
      "[17:40:29]   BondStereo set to STEREONONE and single bond directions set to NONE.\n",
      "[17:40:29] Conflicting single bond directions around double bond at index 48.\n",
      "[17:40:29]   BondStereo set to STEREONONE and single bond directions set to NONE.\n",
      "[17:40:29] Conflicting single bond directions around double bond at index 59.\n",
      "[17:40:29]   BondStereo set to STEREONONE and single bond directions set to NONE.\n",
      "[17:40:29] Conflicting single bond directions around double bond at index 59.\n",
      "[17:40:29]   BondStereo set to STEREONONE and single bond directions set to NONE.\n",
      "[17:40:29] Conflicting single bond directions around double bond at index 57.\n",
      "[17:40:29]   BondStereo set to STEREONONE and single bond directions set to NONE.\n",
      "[17:40:29] Conflicting single bond directions around double bond at index 56.\n",
      "[17:40:29]   BondStereo set to STEREONONE and single bond directions set to NONE.\n",
      "[17:40:29] Conflicting single bond directions around double bond at index 56.\n",
      "[17:40:29]   BondStereo set to STEREONONE and single bond directions set to NONE.\n",
      "[17:40:29] Conflicting single bond directions around double bond at index 57.\n",
      "[17:40:29]   BondStereo set to STEREONONE and single bond directions set to NONE.\n"
     ]
    }
   ],
   "source": [
    "parent_processor = ParentDataProcessor(full_df, hyperparams=hyperparams)\n",
    "parent_processor.build_classification_dataset(classification_method='nm_threshold', project_indep_temporal_split=True)\n",
    "parent_name = '40nm_parent'\n",
    "\n",
    "# Save in DATA/processed\n",
    "parent_out_path = f'DATA/processed/{parent_name}_ECFP{hyperparams[\"fingerprint\"][\"radius\"]*2}_' + \\\n",
    "    f'{hyperparams[\"fingerprint\"][\"bit_vector_length\"]}bit'\n",
    "if hyperparams['drop_ar']:\n",
    "    parent_out_path += '_drop_ar'\n",
    "parent_processor.write_data(parent_out_path)"
   ]
  },
  {
   "cell_type": "markdown",
   "metadata": {},
   "source": [
    "Generate binary classification dataset using **component** PROTAC structures"
   ]
  },
  {
   "cell_type": "code",
   "execution_count": 3,
   "metadata": {},
   "outputs": [
    {
     "ename": "NameError",
     "evalue": "name 'parent_processor' is not defined",
     "output_type": "error",
     "traceback": [
      "\u001b[0;31m---------------------------------------------------------------------------\u001b[0m",
      "\u001b[0;31mNameError\u001b[0m                                 Traceback (most recent call last)",
      "Cell \u001b[0;32mIn[3], line 13\u001b[0m\n\u001b[1;32m     11\u001b[0m \u001b[39mif\u001b[39;00m hyperparams[\u001b[39m'\u001b[39m\u001b[39mdrop_ar\u001b[39m\u001b[39m'\u001b[39m]:\n\u001b[1;32m     12\u001b[0m     component_out_path \u001b[39m+\u001b[39m\u001b[39m=\u001b[39m \u001b[39m'\u001b[39m\u001b[39m_drop_ar\u001b[39m\u001b[39m'\u001b[39m\n\u001b[0;32m---> 13\u001b[0m parent_processor\u001b[39m.\u001b[39mwrite_data(component_out_path)\n",
      "\u001b[0;31mNameError\u001b[0m: name 'parent_processor' is not defined"
     ]
    }
   ],
   "source": [
    "component_processor = ComponentDataProcessor(full_df, target_warhead_column_name='Target Warhead Structure',\n",
    "                                             linker_column_name='Linker Smiles',\n",
    "                                             e3_warhead_column_name='CRBN Warhead Smiles', hyperparams=hyperparams)\n",
    "component_processor.build_classification_dataset(classification_method='nm_threshold',\n",
    "                                                 project_indep_temporal_split=True)\n",
    "component_name = '40nm_component'\n",
    "\n",
    "# Save in DATA/processed\n",
    "component_out_path = f'DATA/processed/{component_name}_ECFP{hyperparams[\"fingerprint\"][\"radius\"]*2}_' + \\\n",
    "    f'{hyperparams[\"fingerprint\"][\"bit_vector_length\"]}bit'\n",
    "if hyperparams['drop_ar']:\n",
    "    component_out_path += '_drop_ar'\n",
    "parent_processor.write_data(component_out_path)"
   ]
  },
  {
   "cell_type": "markdown",
   "metadata": {},
   "source": [
    "Generate **regression** dataset using **parent** PROTAC structures"
   ]
  },
  {
   "cell_type": "code",
   "execution_count": 11,
   "metadata": {},
   "outputs": [
    {
     "name": "stdout",
     "output_type": "stream",
     "text": [
      "asdfsdfsdf\n"
     ]
    }
   ],
   "source": [
    "reg_parent_processor = ParentDataProcessor(full_df, hyperparams=hyperparams)\n",
    "reg_parent_processor.build_regression_dataset(project_indep_temporal_split=True)\n",
    "reg_parent_name = 'reg_parent'\n",
    "\n",
    "# Save in DATA/processed\n",
    "reg_parent_out_path = f'DATA/processed/{reg_parent_name}_ECFP{hyperparams[\"fingerprint\"][\"radius\"]*2}_' + \\\n",
    "    f'{hyperparams[\"fingerprint\"][\"bit_vector_length\"]}bit'\n",
    "if hyperparams['drop_ar']:\n",
    "    reg_parent_out_path += '_drop_ar'\n",
    "reg_parent_processor.write_data(reg_parent_out_path)"
   ]
  },
  {
   "cell_type": "code",
   "execution_count": null,
   "metadata": {},
   "outputs": [],
   "source": []
  }
 ],
 "metadata": {
  "kernelspec": {
   "display_name": "venv",
   "language": "python",
   "name": "python3"
  },
  "language_info": {
   "codemirror_mode": {
    "name": "ipython",
    "version": 3
   },
   "file_extension": ".py",
   "mimetype": "text/x-python",
   "name": "python",
   "nbconvert_exporter": "python",
   "pygments_lexer": "ipython3",
   "version": "3.8.16"
  },
  "orig_nbformat": 4
 },
 "nbformat": 4,
 "nbformat_minor": 2
}
